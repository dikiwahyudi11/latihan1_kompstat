{
  "nbformat": 4,
  "nbformat_minor": 0,
  "metadata": {
    "colab": {
      "provenance": [],
      "collapsed_sections": []
    },
    "kernelspec": {
      "name": "python3",
      "display_name": "Python 3"
    },
    "language_info": {
      "name": "python"
    }
  },
  "cells": [
    {
      "cell_type": "markdown",
      "source": [
        "## Latihan 1 Komputasi Statistika\n",
        "- **Kelas: A**\n",
        "- **Anggota Kelompok:**\n",
        "\n",
        "| No. | Nama| NPM|\n",
        "|:---:|-----|:---:|\n",
        "|1.|Abdul Muhaimin|2106703052|\n",
        "|2.|Adriaan Waleleng|2106725072|\n",
        "|3.|Diki Wahyudi|2106709131|\n",
        "|4.|Justin Martinus|2106724832|"
      ],
      "metadata": {
        "id": "9xcc0YczlybK"
      }
    },
    {
      "cell_type": "markdown",
      "source": [
        "### Import Library"
      ],
      "metadata": {
        "id": "ECP-pG5OmLBT"
      }
    },
    {
      "cell_type": "code",
      "source": [
        "# Load the required libraries\n",
        "import numpy as np\n",
        "import pandas as pd\n",
        "import matplotlib.pyplot as plt\n",
        "import seaborn as sns\n",
        "pd.set_option(\"display.max_colwidth\", 200)"
      ],
      "metadata": {
        "id": "IwoO6f6vfJub"
      },
      "execution_count": null,
      "outputs": []
    },
    {
      "cell_type": "markdown",
      "source": [
        "### Load Data"
      ],
      "metadata": {
        "id": "-n5dfx9qcYJj"
      }
    },
    {
      "cell_type": "code",
      "execution_count": null,
      "metadata": {
        "id": "mcbpn5CefJul"
      },
      "outputs": [],
      "source": [
        "# Load data\n",
        "from sklearn.datasets import fetch_20newsgroups\n",
        "\n",
        "dataset = fetch_20newsgroups(shuffle = True, random_state = 1, remove = ('headers', 'footers', 'quotes'))\n",
        "documents = dataset.data"
      ]
    },
    {
      "cell_type": "code",
      "source": [
        "print(\"Total Documents: \", len(documents))"
      ],
      "metadata": {
        "colab": {
          "base_uri": "https://localhost:8080/"
        },
        "outputId": "fbf7d37c-64e7-4858-a888-a573ed4d2f08",
        "id": "u5Oaqhs2fJul"
      },
      "execution_count": null,
      "outputs": [
        {
          "output_type": "stream",
          "name": "stdout",
          "text": [
            "Total Documents:  11314\n"
          ]
        }
      ]
    },
    {
      "cell_type": "code",
      "source": [
        "dataset.target_names"
      ],
      "metadata": {
        "colab": {
          "base_uri": "https://localhost:8080/"
        },
        "outputId": "88f096e8-4c81-4a0b-c5ce-7d87d2d2dcfb",
        "id": "yTjOh5S_fJum"
      },
      "execution_count": null,
      "outputs": [
        {
          "output_type": "execute_result",
          "data": {
            "text/plain": [
              "['alt.atheism',\n",
              " 'comp.graphics',\n",
              " 'comp.os.ms-windows.misc',\n",
              " 'comp.sys.ibm.pc.hardware',\n",
              " 'comp.sys.mac.hardware',\n",
              " 'comp.windows.x',\n",
              " 'misc.forsale',\n",
              " 'rec.autos',\n",
              " 'rec.motorcycles',\n",
              " 'rec.sport.baseball',\n",
              " 'rec.sport.hockey',\n",
              " 'sci.crypt',\n",
              " 'sci.electronics',\n",
              " 'sci.med',\n",
              " 'sci.space',\n",
              " 'soc.religion.christian',\n",
              " 'talk.politics.guns',\n",
              " 'talk.politics.mideast',\n",
              " 'talk.politics.misc',\n",
              " 'talk.religion.misc']"
            ]
          },
          "metadata": {},
          "execution_count": 4
        }
      ]
    },
    {
      "cell_type": "markdown",
      "source": [
        "Dataset ini mempunyai 11.314 dokumen teks yang tersebar dalam 20 newsgroups yang berbeda."
      ],
      "metadata": {
        "id": "-iz8PCnKdaKH"
      }
    },
    {
      "cell_type": "markdown",
      "source": [
        "### Preprocessing"
      ],
      "metadata": {
        "id": "inF6mA3EcyfJ"
      }
    },
    {
      "cell_type": "code",
      "source": [
        "# Load data dari list ke datafame\n",
        "news_df = pd.DataFrame({'document':documents})\n",
        "\n",
        "# Menyisakan hanya alfabet\n",
        "news_df['clean_doc'] = news_df['document'].str.replace(\"[^a-zA-Z#]\", \" \")\n",
        "\n",
        "#Menghapus kata-kata yang sangat pendek dan umumnya tidak berguna\n",
        "news_df['clean_doc'] = news_df['clean_doc'].apply(lambda x: ' '.join([w for w in x.split() if len(w)>3]))\n",
        "\n",
        "# Membuat semua kata tidak kapital agar mencegah kasus sensitif kapital\n",
        "news_df['clean_doc'] = news_df['clean_doc'].apply(lambda x: x.lower())"
      ],
      "metadata": {
        "colab": {
          "base_uri": "https://localhost:8080/"
        },
        "outputId": "df5d809f-064f-4eb6-a2db-58d9d5b6fddc",
        "id": "-AiHB0TjfJul"
      },
      "execution_count": null,
      "outputs": [
        {
          "output_type": "stream",
          "name": "stderr",
          "text": [
            "/usr/local/lib/python3.7/dist-packages/ipykernel_launcher.py:5: FutureWarning: The default value of regex will change from True to False in a future version.\n",
            "  \"\"\"\n"
          ]
        }
      ]
    },
    {
      "cell_type": "code",
      "source": [
        "# Load stopwords\n",
        "from spacy.lang.en.stop_words import STOP_WORDS as stop_words\n",
        "\n",
        "# Tokenization - Memecah kalimat menjadi kata-kata\n",
        "tokenized_doc = news_df['clean_doc'].apply(lambda x: x.split())\n",
        "\n",
        "# Menghapus stop-words\n",
        "tokenized_doc = tokenized_doc.apply(lambda x: [item for item in x if item not in stop_words])\n",
        "\n",
        "# De-tokenization - Menggabungkan kembali kata-kata menjadi kalimat\n",
        "detokenized_doc = []\n",
        "for i in range(len(news_df)):\n",
        "    t = ' '.join(tokenized_doc[i])\n",
        "    detokenized_doc.append(t)\n",
        "\n",
        "news_df['clean_doc'] = detokenized_doc"
      ],
      "metadata": {
        "id": "HGA7hAXdfJum"
      },
      "execution_count": null,
      "outputs": []
    },
    {
      "cell_type": "markdown",
      "source": [
        "### Singular Value Decomposition"
      ],
      "metadata": {
        "id": "IlGX7Z6kwwKl"
      }
    },
    {
      "cell_type": "markdown",
      "source": [
        "Akan digunakan CountVectorizer sklearn untuk membuat matriks document-term dengan 1,000 term karena limit komputasi yang terbatas."
      ],
      "metadata": {
        "id": "8E--88CGwz8M"
      }
    },
    {
      "cell_type": "code",
      "source": [
        "from sklearn.feature_extraction.text import CountVectorizer\n",
        "vsm = CountVectorizer(binary = False, lowercase = True, stop_words = 'english', max_features = 1000, #Membatasi hanya top 1000 terms \n",
        "max_df = 0.5)"
      ],
      "metadata": {
        "id": "jcDWE0SxO5j4"
      },
      "execution_count": null,
      "outputs": []
    },
    {
      "cell_type": "code",
      "source": [
        "D = []\n",
        "for i in range (len(news_df['clean_doc'])):\n",
        "  D.append(news_df['clean_doc'][i])\n",
        "A = vsm.fit_transform(D)"
      ],
      "metadata": {
        "id": "FSCTZfEIRp4q"
      },
      "execution_count": null,
      "outputs": []
    },
    {
      "cell_type": "code",
      "source": [
        "print(type(A))\n",
        "A.shape #melihat dimensi matriks"
      ],
      "metadata": {
        "colab": {
          "base_uri": "https://localhost:8080/"
        },
        "id": "eJPbVPF1WdJq",
        "outputId": "8dcb8716-4952-42c5-d177-54db3388a768"
      },
      "execution_count": null,
      "outputs": [
        {
          "output_type": "stream",
          "name": "stdout",
          "text": [
            "<class 'scipy.sparse.csr.csr_matrix'>\n"
          ]
        },
        {
          "output_type": "execute_result",
          "data": {
            "text/plain": [
              "(11314, 1000)"
            ]
          },
          "metadata": {},
          "execution_count": 9
        }
      ]
    },
    {
      "cell_type": "code",
      "source": [
        "A.toarray()"
      ],
      "metadata": {
        "colab": {
          "base_uri": "https://localhost:8080/"
        },
        "id": "xZMJHizQVUc0",
        "outputId": "dc15973b-3a48-4641-c7ca-17b95d188e22"
      },
      "execution_count": null,
      "outputs": [
        {
          "output_type": "execute_result",
          "data": {
            "text/plain": [
              "array([[0, 0, 0, ..., 0, 0, 0],\n",
              "       [0, 0, 1, ..., 0, 0, 0],\n",
              "       [0, 0, 0, ..., 0, 0, 0],\n",
              "       ...,\n",
              "       [0, 0, 0, ..., 0, 0, 0],\n",
              "       [0, 0, 0, ..., 0, 0, 0],\n",
              "       [0, 0, 0, ..., 2, 0, 0]])"
            ]
          },
          "metadata": {},
          "execution_count": 10
        }
      ]
    },
    {
      "cell_type": "code",
      "source": [
        "# Solve dengan Numpy\n",
        "U, s, V = np.linalg.svd(A.toarray())\n",
        "print(\"ukuran-ukuran matriks = \", U.shape, s.shape, V.shape)\n",
        "print(s)"
      ],
      "metadata": {
        "colab": {
          "base_uri": "https://localhost:8080/"
        },
        "outputId": "deadcc0e-463a-4746-ad46-c5df5b117129",
        "id": "CapheMuDfJun"
      },
      "execution_count": null,
      "outputs": [
        {
          "output_type": "stream",
          "name": "stdout",
          "text": [
            "ukuran-ukuran matriks =  (11314, 11314) (1000,) (1000, 1000)\n",
            "[562.73322575 409.53341318 353.26163847 293.59997793 281.42713813\n",
            " 256.8185316  241.01063867 229.24397799 228.16009122 207.27235737\n",
            " 195.54572157 180.40923932 176.60964567 174.34689345 170.57146514\n",
            " 168.12960601 157.22855968 148.55928998 146.02822423 144.56570079\n",
            " 139.87409789 136.18523535 133.19125221 125.27606504 124.12590028\n",
            " 117.90066215 116.11328018 114.00684572 107.08917283 104.92327706\n",
            " 104.18165978 103.53138186 100.42321692  99.49814883  97.17432339\n",
            "  93.5540726   91.13348125  90.12874371  87.72591352  87.25108032\n",
            "  86.57791362  85.45806976  84.63824356  83.20115782  82.01325198\n",
            "  80.83026092  79.83756928  79.19704159  78.84666758  77.11127905\n",
            "  76.91091551  75.77519359  74.83183274  74.46912689  73.32059363\n",
            "  72.17354345  70.48895629  69.0216928   67.9720013   67.81769518\n",
            "  67.19944266  66.5519491   66.16160754  65.31548171  64.88870467\n",
            "  64.06650387  63.53627603  62.49954279  61.15699668  60.36980255\n",
            "  60.11457279  59.62531035  59.44328401  58.51443525  58.02167921\n",
            "  57.79645961  57.40917641  57.1793737   56.66807257  56.23368234\n",
            "  55.95574306  55.34887102  55.14780564  54.81369671  54.20871544\n",
            "  53.82828669  53.33498725  52.88134068  52.62329933  52.04899643\n",
            "  51.89039094  51.54965612  51.31125875  50.58786028  50.36504457\n",
            "  50.31104927  49.6122946   49.2151433   49.10441628  48.84826477\n",
            "  48.53889088  47.94820426  47.51175501  47.41269906  47.2087367\n",
            "  46.79591767  46.47635795  46.14192592  45.95500408  45.70148511\n",
            "  45.23436199  45.07442378  44.96708873  44.67032762  44.36390616\n",
            "  44.01635588  43.8149251   43.6454385   43.44434654  43.25388494\n",
            "  43.17488015  43.0105087   42.79145592  42.6539738   42.40384517\n",
            "  42.26149817  42.08826513  41.82690193  41.74757962  41.5059068\n",
            "  41.28054239  41.1943696   40.95791809  40.65873979  40.62700792\n",
            "  40.34705661  39.9930741   39.95255721  39.83561467  39.67941311\n",
            "  39.41002178  39.28787349  39.19225594  39.06672382  38.86188152\n",
            "  38.65631702  38.54860951  38.3287666   38.21623488  38.10161285\n",
            "  38.01341654  37.60952786  37.52378988  37.46578407  37.43525234\n",
            "  37.29415061  37.18227301  36.85914525  36.79459383  36.7378907\n",
            "  36.62862949  36.53859946  36.4741829   36.22510963  36.17555783\n",
            "  35.94661521  35.91637842  35.67063387  35.5916493   35.42184707\n",
            "  35.35397652  35.29514144  35.22846899  35.13648879  34.99539736\n",
            "  34.84045838  34.68015657  34.62796234  34.43868212  34.34843506\n",
            "  34.29997779  34.24340461  34.1504715   34.10112621  33.97888654\n",
            "  33.88843481  33.80168917  33.74382769  33.56912842  33.50723608\n",
            "  33.42718697  33.18873417  33.03860844  32.99871853  32.8740049\n",
            "  32.80632497  32.74774503  32.6841488   32.57152238  32.47011646\n",
            "  32.35033537  32.30019326  32.16368547  32.06338498  32.00010257\n",
            "  31.94274102  31.84102393  31.70907736  31.68320164  31.52720256\n",
            "  31.46643777  31.40599532  31.38318741  31.28586336  31.18650167\n",
            "  31.15787629  30.98886891  30.87393092  30.82778223  30.78138664\n",
            "  30.73908519  30.65078609  30.57107969  30.48080498  30.4385005\n",
            "  30.37489016  30.21539717  30.16525041  30.14626483  30.11354403\n",
            "  29.90243941  29.86606398  29.78153827  29.74029529  29.65178512\n",
            "  29.53461864  29.48203241  29.34368308  29.28957989  29.23348136\n",
            "  29.2022617   29.11143329  29.05964243  28.92278704  28.86326299\n",
            "  28.82119273  28.78812932  28.61889778  28.59819618  28.56273184\n",
            "  28.53319717  28.43915814  28.37725993  28.3533509   28.19650271\n",
            "  28.15647627  28.11930952  28.07017149  27.99178116  27.91787692\n",
            "  27.87375951  27.74916807  27.63703104  27.61826864  27.60111262\n",
            "  27.54404526  27.51089631  27.39581163  27.34522063  27.32670012\n",
            "  27.25840615  27.19143223  27.08168441  27.03255262  26.96718267\n",
            "  26.9227358   26.89869939  26.84411101  26.79623044  26.76839789\n",
            "  26.72720962  26.66100165  26.62205734  26.54326787  26.5185164\n",
            "  26.48904748  26.4530347   26.33629675  26.31670358  26.19792363\n",
            "  26.14314193  26.08575983  26.02974084  25.99347324  25.96260059\n",
            "  25.92950905  25.84850775  25.80442876  25.73971314  25.72411993\n",
            "  25.66492137  25.53221777  25.49419142  25.48954504  25.46862354\n",
            "  25.40125189  25.36465922  25.33827401  25.25692434  25.23226101\n",
            "  25.19867512  25.10840977  25.04654918  25.00218358  24.9776795\n",
            "  24.95622636  24.90629505  24.88487552  24.76847954  24.70506298\n",
            "  24.65568423  24.62816458  24.60874285  24.56118383  24.50333079\n",
            "  24.49461694  24.39979648  24.3905714   24.37127579  24.28761651\n",
            "  24.27068135  24.21830202  24.13554203  24.11720383  24.10495421\n",
            "  24.07461271  23.98176583  23.94786192  23.92627371  23.88385374\n",
            "  23.87128473  23.76963862  23.73446023  23.68183008  23.65902391\n",
            "  23.60558479  23.55752091  23.50429963  23.47257408  23.41060309\n",
            "  23.37884576  23.35478836  23.31648162  23.26798834  23.2464208\n",
            "  23.20443041  23.18254864  23.13750098  23.12164209  23.08693386\n",
            "  23.02872393  22.95515573  22.92910923  22.90841011  22.86909184\n",
            "  22.81865817  22.80358879  22.76204602  22.71493474  22.66459027\n",
            "  22.65367587  22.58004935  22.56325269  22.55755578  22.53283541\n",
            "  22.45083022  22.44180789  22.40159003  22.38798488  22.33691316\n",
            "  22.29234372  22.25953211  22.23188907  22.19359102  22.12694962\n",
            "  22.08538747  22.04164167  21.96652656  21.94506125  21.91071286\n",
            "  21.8598772   21.82805216  21.80224709  21.78670075  21.76901178\n",
            "  21.69561607  21.68442709  21.67257103  21.64274154  21.59976419\n",
            "  21.55963011  21.50775368  21.48862551  21.47032904  21.45124325\n",
            "  21.42861913  21.32199323  21.30587644  21.25887729  21.25283922\n",
            "  21.21079692  21.19616776  21.16556505  21.13535076  21.09568042\n",
            "  21.06764629  21.02682062  20.99832603  20.97485685  20.93307429\n",
            "  20.91027226  20.88723683  20.87551462  20.82242234  20.77940754\n",
            "  20.75514493  20.70993975  20.67472396  20.63919959  20.59903772\n",
            "  20.59077679  20.55839358  20.53572223  20.50066091  20.47591366\n",
            "  20.44098789  20.43753402  20.4075598   20.31773305  20.30793091\n",
            "  20.26914498  20.25806204  20.20058582  20.18244256  20.1551446\n",
            "  20.13531842  20.10759315  20.07295128  20.06061573  20.01266735\n",
            "  19.97247985  19.96554505  19.90901309  19.89176116  19.85346865\n",
            "  19.81345745  19.7673326   19.76512372  19.73088793  19.7186796\n",
            "  19.70556004  19.64859732  19.63454166  19.58338415  19.56689971\n",
            "  19.53735883  19.47209841  19.43521564  19.42034981  19.40613616\n",
            "  19.36983773  19.31848741  19.31114755  19.29879131  19.28543935\n",
            "  19.24674971  19.23479409  19.20259471  19.17151779  19.15808403\n",
            "  19.11048991  19.08490968  19.05817978  19.0316531   19.00694347\n",
            "  18.94325621  18.90547911  18.89165609  18.88034412  18.86311\n",
            "  18.82205007  18.81214668  18.79334627  18.76315023  18.75247149\n",
            "  18.70614795  18.65660859  18.6181781   18.60844814  18.56651619\n",
            "  18.54217262  18.53863947  18.50266439  18.47450779  18.45327845\n",
            "  18.4128656   18.38437764  18.35291501  18.32054265  18.31430126\n",
            "  18.30499534  18.28101859  18.2451717   18.22018947  18.18664798\n",
            "  18.15558815  18.12079382  18.09382898  18.07733783  18.07080747\n",
            "  18.02509464  17.9987137   17.99102509  17.97321977  17.93740117\n",
            "  17.92863739  17.91205425  17.8957118   17.85980289  17.83665694\n",
            "  17.82564687  17.80300322  17.78116116  17.74505905  17.73396213\n",
            "  17.68393711  17.67988951  17.65351397  17.60623683  17.58210899\n",
            "  17.57384879  17.56431026  17.52528637  17.48301289  17.45343221\n",
            "  17.43181442  17.40315549  17.37738672  17.35044594  17.3459185\n",
            "  17.31355439  17.2968723   17.28897786  17.27579685  17.22083672\n",
            "  17.19620166  17.17506863  17.13361326  17.12256438  17.1067098\n",
            "  17.094155    17.0575793   17.04224169  17.03621914  17.0026661\n",
            "  16.96093904  16.94249836  16.938185    16.90686071  16.88730112\n",
            "  16.85146832  16.83112128  16.79758942  16.77256091  16.74892764\n",
            "  16.73215771  16.72945133  16.67928964  16.66773217  16.65398009\n",
            "  16.63206227  16.60875776  16.56965956  16.54954087  16.54199028\n",
            "  16.5137289   16.48240341  16.45641077  16.44312127  16.42986277\n",
            "  16.39675996  16.3793052   16.3659019   16.33881797  16.32928987\n",
            "  16.32402747  16.28446793  16.26732577  16.23592323  16.2251067\n",
            "  16.21617134  16.16550996  16.14737413  16.12234683  16.09819343\n",
            "  16.07552454  16.05806372  16.03173281  16.00901228  15.98097554\n",
            "  15.96929032  15.94267678  15.91566806  15.8728838   15.85663943\n",
            "  15.85472595  15.8312791   15.8147245   15.8042759   15.77073017\n",
            "  15.75943677  15.74928838  15.73440674  15.69598051  15.67517503\n",
            "  15.6609138   15.64387768  15.62668365  15.59327032  15.57192552\n",
            "  15.55755164  15.55196411  15.52552535  15.5143003   15.50169364\n",
            "  15.47907134  15.4683066   15.44799278  15.39889761  15.38963745\n",
            "  15.37995557  15.35453158  15.33297067  15.30652299  15.29643132\n",
            "  15.26454715  15.25140641  15.22147783  15.21604028  15.18602672\n",
            "  15.16198065  15.1428742   15.12541301  15.09625752  15.06736169\n",
            "  15.06256342  15.05227293  15.01656124  15.00400982  14.97368502\n",
            "  14.96908697  14.95588077  14.92688873  14.91746039  14.89912472\n",
            "  14.87398683  14.84924039  14.8346743   14.81409514  14.80170073\n",
            "  14.78986655  14.74438148  14.71798586  14.70308789  14.68120522\n",
            "  14.67480865  14.63712979  14.61864649  14.60864053  14.59150664\n",
            "  14.57909083  14.55341331  14.50645375  14.5026885   14.49599893\n",
            "  14.4924516   14.44541709  14.43306445  14.42996023  14.3846379\n",
            "  14.37295925  14.36442063  14.33999328  14.33835092  14.30952494\n",
            "  14.28642306  14.27087739  14.23894499  14.21598494  14.19620753\n",
            "  14.1819756   14.17727692  14.15223953  14.13313386  14.1291603\n",
            "  14.10230162  14.07511201  14.06631659  14.04918126  14.0092584\n",
            "  14.00243842  13.97690361  13.96266276  13.94084057  13.92383584\n",
            "  13.9133099   13.89817469  13.87986477  13.85936467  13.85090237\n",
            "  13.83598515  13.81730448  13.80318348  13.77039651  13.75172537\n",
            "  13.73634677  13.72873658  13.70395224  13.7000456   13.67232317\n",
            "  13.66074045  13.64530651  13.63794466  13.61507737  13.58800348\n",
            "  13.57965921  13.55673327  13.5366808   13.5133289   13.48581821\n",
            "  13.44801527  13.4369228   13.42406487  13.40905283  13.40272413\n",
            "  13.38293813  13.36802873  13.35069123  13.32865411  13.30520206\n",
            "  13.28985717  13.28123216  13.27134236  13.23195784  13.21498906\n",
            "  13.19854073  13.19367004  13.18418792  13.15357522  13.13617685\n",
            "  13.12783618  13.11509964  13.09305811  13.07494861  13.04354453\n",
            "  13.03674695  13.01306697  13.00864895  12.98121499  12.95925068\n",
            "  12.94891429  12.92944679  12.91470948  12.88550275  12.87217265\n",
            "  12.8596195   12.84195095  12.81988466  12.80512133  12.78473932\n",
            "  12.77217353  12.75224204  12.73523722  12.71433703  12.7048677\n",
            "  12.69381401  12.68233096  12.65132712  12.63863214  12.62596207\n",
            "  12.59631051  12.57117371  12.55253838  12.54412843  12.53313269\n",
            "  12.52059361  12.50085822  12.47762765  12.46078589  12.44734202\n",
            "  12.43609749  12.42772017  12.39559689  12.38857213  12.36166103\n",
            "  12.35477409  12.32962564  12.31475905  12.30213957  12.29933857\n",
            "  12.27274536  12.24306152  12.22473013  12.19452955  12.19220937\n",
            "  12.18663929  12.14969218  12.12082314  12.11515308  12.10748729\n",
            "  12.08992823  12.07110273  12.05348881  12.04851908  12.03592184\n",
            "  12.00128964  11.97888057  11.96084109  11.95302663  11.93138368\n",
            "  11.91626601  11.90507819  11.89980462  11.86524062  11.84763406\n",
            "  11.8376873   11.82989981  11.81576769  11.79963126  11.78897778\n",
            "  11.75038906  11.72559687  11.71952305  11.71323118  11.69676257\n",
            "  11.67760821  11.6648392   11.63485978  11.62234459  11.60687225\n",
            "  11.57617144  11.55652629  11.5486736   11.52048095  11.50414157\n",
            "  11.50150528  11.47761297  11.45804157  11.44762365  11.43706354\n",
            "  11.42280477  11.40616298  11.37074708  11.36450336  11.34339934\n",
            "  11.33248205  11.3225902   11.28088869  11.2665983   11.25536972\n",
            "  11.2313308   11.22384778  11.22149464  11.20239272  11.19474459\n",
            "  11.15270536  11.14608393  11.11338521  11.09144452  11.08078431\n",
            "  11.07766045  11.06021073  11.04054894  11.01387172  11.01111335\n",
            "  10.993688    10.96463365  10.95118461  10.94531749  10.92036846\n",
            "  10.89796512  10.87738164  10.87428869  10.83519685  10.82981906\n",
            "  10.80583411  10.78769689  10.75778664  10.74893181  10.72915063\n",
            "  10.71621756  10.69884195  10.67056306  10.65927469  10.63988113\n",
            "  10.63066998  10.6191808   10.60115096  10.56727786  10.54903704\n",
            "  10.54456223  10.54194492  10.5206338   10.5009721   10.47561704\n",
            "  10.44713212  10.42971945  10.41697361  10.39321942  10.37207708\n",
            "  10.35173287  10.34414019  10.30023772  10.29235213  10.27959916\n",
            "  10.27176759  10.25635915  10.23705352  10.21459207  10.20176841\n",
            "  10.1916194   10.15782607  10.13864157  10.12707775  10.1130861\n",
            "  10.08250515  10.0580341   10.04010104  10.00394715   9.97817727\n",
            "   9.95680622   9.93856733   9.92915089   9.90656427   9.89135984\n",
            "   9.85374304   9.82032939   9.80630882   9.76652135   9.75559343\n",
            "   9.73275133   9.72620822   9.71098259   9.68902798   9.65371009\n",
            "   9.65053204   9.63961688   9.59287997   9.56004979   9.53200853\n",
            "   9.50260498   9.49750006   9.48045652   9.47791841   9.44156758\n",
            "   9.40143912   9.38781664   9.34972891   9.34789897   9.31372255\n",
            "   9.2945337    9.23245486   9.21060787   9.18307059   9.16628009\n",
            "   9.13739206   9.12661383   9.07261405   9.05789957   9.00959699\n",
            "   9.00628079   8.95670825   8.95016402   8.91373573   8.89404792\n",
            "   8.85408786   8.8237999    8.78780576   8.77120567   8.70912615\n",
            "   8.67906869   8.56793705   8.56040064   8.47010176   8.41636118\n",
            "   8.31580871   8.19780304   8.000187     6.9298502    6.41073039]\n"
          ]
        }
      ]
    },
    {
      "cell_type": "markdown",
      "source": [
        "### Visualisasi"
      ],
      "metadata": {
        "id": "oWrIoJx-eQzf"
      }
    },
    {
      "cell_type": "code",
      "source": [
        "x_kata = V[0,:] # Baris pertama matrix V = sumbu x kata\n",
        "y_kata = V[1,:] # Baris kedua matrix V = sumbu y kata\n",
        "\n",
        "# Label dari setiap barisnya = kata-kata\n",
        "print(vsm.vocabulary_)"
      ],
      "metadata": {
        "colab": {
          "base_uri": "https://localhost:8080/"
        },
        "outputId": "7ed678e8-268c-43a5-e607-e0b32226df6d",
        "id": "inTsYstvfJun"
      },
      "execution_count": null,
      "outputs": [
        {
          "output_type": "stream",
          "name": "stdout",
          "text": [
            "{'sure': 870, 'story': 852, 'statement': 844, 'media': 534, 'israeli': 442, 'world': 985, 'having': 392, 'europe': 294, 'realize': 713, 'described': 231, 'letter': 480, 'think': 896, 'reason': 714, 'report': 732, 'clearly': 154, 'reports': 734, 'soldiers': 817, 'received': 718, 'government': 370, 'makes': 518, 'away': 73, 'look': 500, 'jews': 448, 'power': 667, 'yeah': 995, 'expect': 304, 'people': 630, 'read': 709, 'actually': 9, 'accept': 2, 'hard': 389, 'atheism': 64, 'need': 579, 'little': 492, 'faith': 314, 'logic': 497, 'runs': 758, 'sorry': 821, 'maybe': 530, 'start': 839, 'newsgroup': 584, 'forget': 340, 'points': 652, 'like': 486, 'know': 461, 'question': 702, 'sort': 822, 'arab': 46, 'countries': 203, 'want': 951, 'continue': 191, 'israel': 441, 'stop': 851, 'asking': 61, 'questions': 703, 'work': 981, 'begin': 81, 'attack': 66, 'group': 376, 'stupid': 859, 'center': 124, 'policy': 654, 'research': 739, 'change': 128, 'product': 686, 'area': 48, 'suspect': 872, 'clipper': 156, 'came': 114, 'technology': 885, 'drive': 263, 'cost': 199, 'present': 669, 'street': 854, 'going': 367, 'especially': 293, 'probably': 680, 'doesn': 258, 'real': 711, 'year': 996, 'voice': 948, 'privacy': 678, 'phone': 637, 'line': 489, 'close': 158, 'unfortunately': 927, 'time': 899, 'right': 748, 'certainly': 126, 'post': 662, 'rules': 756, 'matter': 528, 'good': 369, 'mail': 513, 'league': 475, 'smith': 812, 'jesus': 446, 'wasn': 955, 'dead': 221, 'appears': 36, 'stay': 847, 'normal': 587, 'wonder': 977, 'record': 721, 'shows': 799, 'small': 811, 'programs': 690, 'average': 71, 'difference': 243, 'great': 372, 'simple': 803, 'card': 116, 'better': 87, 'says': 768, 'cards': 117, 'offer': 598, 'bought': 101, 'problems': 682, 'complete': 178, 'check': 134, 'called': 111, 'performance': 632, 'numbers': 593, 'file': 326, 'sounds': 824, 'mean': 531, 'peace': 629, 'process': 683, 'test': 889, 'table': 875, 'months': 562, 'prove': 694, 'known': 463, 'terms': 888, 'saying': 767, 'reasons': 716, 'california': 110, 'shouldn': 798, 'allowed': 21, 'force': 339, 'food': 338, 'option': 607, 'leave': 477, 'include': 418, 'options': 608, 'wouldn': 988, 'wondering': 978, 'light': 485, 'electronic': 280, 'remember': 729, 'total': 907, 'kind': 458, 'memory': 538, 'independent': 423, 'outside': 614, 'years': 997, 'life': 484, 'vehicle': 943, 'expected': 305, 'legal': 479, 'miles': 547, 'actual': 8, 'looks': 503, 'fairly': 313, 'easy': 275, 'price': 675, 'tell': 886, 'thanks': 892, 'archive': 47, 'graphics': 371, 'resources': 741, 'list': 491, 'computer': 180, 'resource': 740, 'posting': 664, 'april': 45, 'including': 421, 'available': 70, 'site': 806, 'manager': 520, 'directory': 249, 'usenet': 934, 'news': 583, 'answers': 31, 'article': 58, 'server': 790, 'machine': 510, 'send': 784, 'message': 541, 'help': 400, 'body': 97, 'places': 643, 'information': 426, 'changed': 129, 'order': 610, 'plan': 644, 'soon': 820, 'keys': 454, 'subject': 860, 'public': 698, 'free': 344, 'systems': 874, 'stuff': 858, 'thinking': 897, 'making': 519, 'lines': 490, 'character': 132, 'added': 10, 'changes': 130, 'text': 890, 'copy': 197, 'provided': 696, 'contact': 188, 'risk': 750, 'software': 815, 'suggest': 861, 'reading': 710, 'comp': 174, 'image': 414, 'analysis': 27, 'date': 217, 'asked': 60, 'john': 450, 'nasa': 573, 'official': 601, 'included': 419, 'comments': 168, 'related': 725, 'mailing': 514, 'commercial': 169, 'description': 232, 'processing': 684, 'display': 254, 'data': 216, 'files': 327, 'background': 74, 'space': 829, 'shuttle': 800, 'scientific': 771, 'future': 351, 'info': 425, 'search': 774, 'groups': 377, 'usually': 938, 'articles': 59, 'posted': 663, 'times': 900, 'month': 561, 'kept': 452, 'field': 324, 'port': 658, 'type': 923, 'place': 642, 'robert': 752, 'general': 355, 'switch': 873, 'network': 582, 'service': 791, 'word': 979, 'following': 335, 'user': 935, 'anonymous': 29, 'internet': 439, 'address': 13, 'receive': 717, 'required': 737, 'appreciated': 42, 'contrib': 192, 'tape': 881, 'sources': 826, 'misc': 552, 'account': 5, 'sites': 807, 'note': 589, 'users': 936, 'united': 929, 'messages': 542, 'number': 592, 'things': 895, 'response': 743, 'email': 281, 'unix': 932, 'hours': 409, 'days': 220, 'later': 470, 'written': 991, 'dave': 218, 'david': 219, 'range': 706, 'surface': 871, 'types': 924, 'package': 615, 'version': 944, 'exists': 303, 'author': 68, 'source': 825, 'direct': 247, 'steve': 850, 'wire': 973, 'interesting': 435, 'features': 321, 'series': 788, 'needs': 581, 'volume': 949, 'excellent': 300, 'models': 556, 'based': 77, 'machines': 511, 'includes': 420, 'house': 410, 'solution': 818, 'stand': 836, 'requires': 738, 'uses': 937, 'algorithm': 19, 'command': 166, 'interface': 436, 'program': 688, 'write': 989, 'code': 159, 'format': 342, 'widget': 968, 'applications': 39, 'environment': 288, 'device': 239, 'library': 482, 'fast': 318, 'output': 613, 'support': 865, 'major': 516, 'save': 766, 'extra': 310, 'looking': 502, 'imagine': 416, 'nice': 585, 'postscript': 666, 'object': 594, 'font': 336, 'material': 527, 'references': 723, 'cross': 213, 'paper': 619, 'project': 691, 'technical': 884, 'form': 341, 'community': 173, 'access': 3, 'wish': 974, 'suggestions': 862, 'tools': 905, 'writing': 990, 'images': 415, 'screen': 772, 'programming': 689, 'windows': 972, 'color': 160, 'useful': 933, 'books': 99, 'means': 533, 'north': 588, 'america': 24, 'lots': 506, 'book': 98, 'trouble': 913, 'specific': 832, 'multiple': 570, 'created': 210, 'mark': 523, 'window': 971, 'fonts': 337, 'latest': 471, 'manual': 521, 'contains': 189, 'apparently': 34, 'longer': 499, 'language': 467, 'standard': 837, 'best': 86, 'issues': 444, 'jpeg': 451, 'export': 309, 'paul': 628, 'recently': 720, 'james': 445, 'apple': 37, 'conference': 183, 'video': 946, 'boston': 100, 'international': 438, 'near': 577, 'washington': 954, 'reality': 712, 'built': 107, 'science': 770, 'final': 328, 'exist': 301, 'state': 842, 'course': 206, 'considered': 186, 'signal': 801, 'short': 796, 'digital': 246, 'human': 411, 'head': 393, 'provides': 697, 'distribution': 255, 'different': 244, 'convert': 195, 'toronto': 906, 'peter': 636, 'modem': 557, 'bits': 91, 'main': 515, 'function': 349, 'land': 466, 'particular': 620, 'details': 235, 'entire': 286, 'carry': 119, 'americans': 26, 'come': 163, 'medical': 535, 'middle': 545, 'east': 274, 'plus': 650, 'room': 753, 'wrong': 992, 'return': 747, 'valid': 939, 'follow': 334, 'reply': 731, 'answer': 30, 'original': 612, 'sent': 786, 'request': 735, 'week': 961, 'example': 299, 'point': 651, 'base': 75, 'entry': 287, 'chicago': 135, 'canada': 115, 'supported': 866, 'currently': 215, 'long': 498, 'york': 998, 'running': 757, 'sound': 823, 'west': 964, 'special': 831, 'given': 361, 'supports': 867, 'design': 233, 'services': 792, 'offers': 599, 'rates': 708, 'interested': 434, 'addition': 11, 'basic': 78, 'rate': 707, 'directly': 248, 'license': 483, 'satellite': 765, 'office': 600, 'road': 751, 'create': 209, 'money': 559, 'release': 726, 'easily': 273, 'feel': 323, 'possible': 660, 'disk': 252, 'army': 57, 'draw': 262, 'block': 93, 'half': 381, 'print': 676, 'picture': 640, 'colors': 162, 'michael': 544, 'university': 931, 'president': 670, 'south': 827, 'city': 148, 'additional': 12, 'department': 230, 'handle': 383, 'fully': 348, 'worth': 987, 'personal': 635, 'station': 846, 'model': 555, 'devices': 240, 'party': 623, 'cover': 208, 'costs': 200, 'administration': 14, 'shipping': 795, 'vancouver': 942, 'basically': 79, 'build': 105, 'application': 38, 'theory': 893, 'agencies': 17, 'internal': 437, 'heard': 396, 'copies': 196, 'company': 176, 'person': 634, 'understanding': 926, 'today': 902, 'period': 633, 'building': 106, 'young': 999, 'higher': 402, 'fine': 330, 'null': 591, 'pittsburgh': 641, 'mouse': 568, 'motif': 567, 'open': 603, 'developed': 237, 'transfer': 911, 'define': 228, 'current': 214, 'standards': 838, 'step': 848, 'working': 983, 'mike': 546, 'baseball': 76, 'sale': 764, 'condition': 182, 'recent': 719, 'term': 887, 'according': 4, 'nature': 576, 'left': 478, 'control': 193, 'obviously': 597, 'choose': 141, 'live': 493, 'choice': 140, 'title': 901, 'versions': 945, 'political': 655, 'appropriate': 44, 'exactly': 298, 'chip': 138, 'secret': 777, 'child': 136, 'citizens': 147, 'arms': 56, 'purpose': 700, 'private': 679, 'quality': 701, 'playing': 649, 'season': 775, 'pick': 639, 'thought': 898, 'case': 121, 'generally': 356, 'belief': 83, 'important': 417, 'issue': 443, 'said': 763, 'organization': 611, 'bible': 88, 'anti': 32, 'believe': 85, 'fact': 312, 'christ': 142, 'children': 137, 'sense': 785, 'works': 984, 'agree': 18, 'simply': 804, 'needed': 580, 'trying': 917, 'words': 980, 'large': 468, 'common': 171, 'seen': 781, 'deal': 222, 'remote': 730, 'parts': 622, 'shot': 797, 'cheap': 133, 'player': 647, 'worked': 982, 'lower': 508, 'inside': 428, 'thing': 894, 'likely': 487, 'majority': 517, 'hand': 382, 'class': 152, 'trust': 915, 'modern': 558, 'idea': 412, 'rights': 749, 'lord': 504, 'freedom': 345, 'religion': 727, 'team': 882, 'early': 271, 'operation': 604, 'hands': 384, 'national': 574, 'play': 645, 'second': 776, 'guess': 378, 'country': 204, 'mention': 539, 'father': 320, 'love': 507, 'understand': 925, 'context': 190, 'specifically': 833, 'christians': 145, 'hell': 398, 'pass': 624, 'basis': 80, 'method': 543, 'secure': 779, 'care': 118, 'wants': 953, 'christianity': 144, 'home': 407, 'bring': 103, 'willing': 970, 'chips': 139, 'similar': 802, 'effect': 277, 'allows': 22, 'encryption': 282, 'door': 259, 'knows': 464, 'possibly': 661, 'earlier': 270, 'discussion': 250, 'knowledge': 462, 'game': 352, 'round': 754, 'ways': 958, 'watch': 956, 'comes': 164, 'crime': 211, 'criminals': 212, 'communications': 172, 'drug': 268, 'escrow': 292, 'kill': 455, 'hold': 405, 'assuming': 63, 'cars': 120, 'reasonable': 715, 'assume': 62, 'past': 626, 'blue': 95, 'high': 401, 'market': 524, 'clinton': 155, 'protect': 692, 'amendment': 23, 'able': 1, 'security': 780, 'court': 207, 'taking': 878, 'self': 782, 'defense': 227, 'turn': 921, 'enforcement': 284, 'safety': 762, 'deleted': 229, 'doubt': 261, 'problem': 681, 'guys': 380, 'drivers': 265, 'held': 397, 'happened': 386, 'tried': 912, 'keyboard': 453, 'cable': 109, 'meaning': 532, 'weeks': 962, 'calls': 113, 'experience': 307, 'church': 146, 'particularly': 621, 'didn': 241, 'true': 914, 'holy': 406, 'death': 223, 'truth': 916, 'ground': 375, 'situation': 808, 'summer': 863, 'regular': 724, 'business': 108, 'view': 947, 'women': 976, 'members': 537, 'killed': 456, 'killing': 457, 'figure': 325, 'lives': 494, 'necessary': 578, 'protection': 693, 'blood': 94, 'result': 745, 'conclusion': 181, 'advance': 15, 'moral': 564, 'claim': 150, 'consider': 185, 'allow': 20, 'pretty': 672, 'sold': 816, 'black': 92, 'goes': 366, 'hope': 408, 'correct': 198, 'strong': 855, 'sell': 783, 'serial': 787, 'turned': 922, 'printer': 677, 'couldn': 201, 'drives': 266, 'finally': 329, 'decided': 224, 'wanted': 952, 'gave': 354, 'scsi': 773, 'areas': 49, 'effective': 278, 'school': 769, 'press': 671, 'instead': 430, 'quote': 704, 'limited': 488, 'stated': 843, 'previous': 674, 'certain': 125, 'couple': 205, 'effort': 279, 'avoid': 72, 'anybody': 33, 'monitor': 560, 'size': 809, 'appear': 35, 'clock': 157, 'default': 226, 'slow': 810, 'speed': 834, 'passed': 625, 'faster': 319, 'double': 260, 'designed': 234, 'companies': 175, 'products': 687, 'development': 238, 'goals': 365, 'moon': 563, 'mission': 553, 'lunar': 509, 'obvious': 596, 'single': 805, 'supply': 864, 'equipment': 289, 'aren': 50, 'knew': 460, 'goal': 364, 'earth': 272, 'giving': 363, 'magazine': 512, 'comment': 167, 'took': 904, 'level': 481, 'perfect': 631, 'produce': 685, 'happen': 385, 'lack': 465, 'expensive': 306, 'played': 646, 'night': 586, 'hardware': 390, 'games': 353, 'mass': 525, 'hockey': 404, 'radio': 705, 'greek': 374, 'getting': 360, 'happy': 388, 'happens': 387, 'actions': 7, 'ability': 0, 'religious': 728, 'mind': 550, 'completely': 179, 'argument': 51, 'supposed': 869, 'folks': 333, 'bike': 89, 'insurance': 432, 'advice': 16, 'states': 845, 'break': 102, 'beginning': 82, 'learn': 476, 'friend': 346, 'family': 317, 'told': 903, 'mentioned': 540, 'attempt': 67, 'fall': 315, 'gets': 359, 'water': 957, 'local': 496, 'wife': 969, 'looked': 501, 'reported': 733, 'went': 963, 'coming': 165, 'weapons': 960, 'weapon': 959, 'event': 295, 'master': 526, 'hear': 395, 'christian': 143, 'lead': 474, 'existence': 302, 'police': 653, 'char': 131, 'value': 940, 'board': 96, 'cause': 123, 'unit': 928, 'input': 427, 'rule': 755, 'apply': 40, 'late': 469, 'driving': 267, 'universe': 930, 'claims': 151, 'difficult': 245, 'increase': 422, 'seriously': 789, 'worse': 986, 'mode': 554, 'driver': 264, 'taken': 876, 'american': 25, 'talk': 879, 'intended': 433, 'woman': 975, 'started': 840, 'white': 966, 'multi': 569, 'engine': 285, 'trade': 909, 'opinion': 605, 'federal': 322, 'events': 296, 'values': 941, 'controller': 194, 'orbit': 609, 'opinions': 606, 'wait': 950, 'social': 813, 'poor': 656, 'education': 276, 'appreciate': 41, 'gone': 368, 'involved': 440, 'face': 311, 'gives': 362, 'action': 6, 'arguments': 52, 'bios': 90, 'error': 290, 'hello': 399, 'calling': 112, 'minutes': 551, 'evidence': 297, 'clear': 153, 'errors': 291, 'greatly': 373, 'position': 659, 'chance': 127, 'cases': 122, 'jobs': 449, 'town': 908, 'institute': 431, 'floppy': 332, 'disks': 253, 'morning': 565, 'talking': 880, 'provide': 695, 'military': 548, 'ones': 602, 'results': 746, 'explain': 308, 'angeles': 28, 'million': 549, 'shall': 794, 'takes': 877, 'functions': 350, 'require': 736, 'wrote': 993, 'xterm': 994, 'armenians': 55, 'armenia': 53, 'turkish': 919, 'turkey': 918, 'speak': 830, 'germany': 358, 'armenian': 54, 'natural': 575, 'ideas': 413, 'installed': 429, 'paid': 617, 'friends': 347, 'health': 394, 'physical': 638, 'teams': 883, 'players': 648, 'pain': 618, 'decision': 225, 'haven': 391, 'individual': 424, 'society': 814, 'count': 202, 'civil': 149, 'guns': 379, 'colorado': 161, 'mother': 566, 'died': 242, 'considering': 187, 'thank': 891, 'suppose': 868, 'somebody': 819, 'brought': 104, 'jewish': 447, 'published': 699, 'drugs': 269, 'patients': 627, 'disease': 251, 'launch': 472, 'prevent': 673, 'page': 616, 'safe': 761, 'studies': 856, 'study': 857, 'doctor': 257, 'setting': 793, 'division': 256, 'committee': 170, 'approach': 43, 'march': 522, 'history': 403, 'congress': 184, 'rest': 744, 'starting': 841, 'atheists': 65, 'authority': 69, 'stream': 853, 'soviet': 828, 'genocide': 357, 'section': 778, 'russian': 760, 'population': 657, 'forward': 343, 'names': 572, 'laws': 473, 'false': 316, 'reference': 722, 'western': 965, 'practice': 668, 'lost': 505, 'living': 495, 'spirit': 835, 'traffic': 910, 'wide': 967, 'member': 536, 'energy': 283, 'objective': 595, 'compatible': 177, 'respect': 742, 'nuclear': 590, 'beliefs': 84, 'posts': 665, 'matthew': 529, 'russia': 759, 'firearms': 331, 'turks': 920, 'muslim': 571, 'king': 459, 'detroit': 236, 'stephanopoulos': 849}\n"
          ]
        }
      ]
    },
    {
      "cell_type": "code",
      "source": [
        "print(str(vsm.vocabulary_))"
      ],
      "metadata": {
        "colab": {
          "base_uri": "https://localhost:8080/"
        },
        "id": "jk8mS3ZoR1IN",
        "outputId": "20543863-8789-4c01-b9f0-48d9ddebbb7b"
      },
      "execution_count": null,
      "outputs": [
        {
          "output_type": "stream",
          "name": "stdout",
          "text": [
            "{'sure': 870, 'story': 852, 'statement': 844, 'media': 534, 'israeli': 442, 'world': 985, 'having': 392, 'europe': 294, 'realize': 713, 'described': 231, 'letter': 480, 'think': 896, 'reason': 714, 'report': 732, 'clearly': 154, 'reports': 734, 'soldiers': 817, 'received': 718, 'government': 370, 'makes': 518, 'away': 73, 'look': 500, 'jews': 448, 'power': 667, 'yeah': 995, 'expect': 304, 'people': 630, 'read': 709, 'actually': 9, 'accept': 2, 'hard': 389, 'atheism': 64, 'need': 579, 'little': 492, 'faith': 314, 'logic': 497, 'runs': 758, 'sorry': 821, 'maybe': 530, 'start': 839, 'newsgroup': 584, 'forget': 340, 'points': 652, 'like': 486, 'know': 461, 'question': 702, 'sort': 822, 'arab': 46, 'countries': 203, 'want': 951, 'continue': 191, 'israel': 441, 'stop': 851, 'asking': 61, 'questions': 703, 'work': 981, 'begin': 81, 'attack': 66, 'group': 376, 'stupid': 859, 'center': 124, 'policy': 654, 'research': 739, 'change': 128, 'product': 686, 'area': 48, 'suspect': 872, 'clipper': 156, 'came': 114, 'technology': 885, 'drive': 263, 'cost': 199, 'present': 669, 'street': 854, 'going': 367, 'especially': 293, 'probably': 680, 'doesn': 258, 'real': 711, 'year': 996, 'voice': 948, 'privacy': 678, 'phone': 637, 'line': 489, 'close': 158, 'unfortunately': 927, 'time': 899, 'right': 748, 'certainly': 126, 'post': 662, 'rules': 756, 'matter': 528, 'good': 369, 'mail': 513, 'league': 475, 'smith': 812, 'jesus': 446, 'wasn': 955, 'dead': 221, 'appears': 36, 'stay': 847, 'normal': 587, 'wonder': 977, 'record': 721, 'shows': 799, 'small': 811, 'programs': 690, 'average': 71, 'difference': 243, 'great': 372, 'simple': 803, 'card': 116, 'better': 87, 'says': 768, 'cards': 117, 'offer': 598, 'bought': 101, 'problems': 682, 'complete': 178, 'check': 134, 'called': 111, 'performance': 632, 'numbers': 593, 'file': 326, 'sounds': 824, 'mean': 531, 'peace': 629, 'process': 683, 'test': 889, 'table': 875, 'months': 562, 'prove': 694, 'known': 463, 'terms': 888, 'saying': 767, 'reasons': 716, 'california': 110, 'shouldn': 798, 'allowed': 21, 'force': 339, 'food': 338, 'option': 607, 'leave': 477, 'include': 418, 'options': 608, 'wouldn': 988, 'wondering': 978, 'light': 485, 'electronic': 280, 'remember': 729, 'total': 907, 'kind': 458, 'memory': 538, 'independent': 423, 'outside': 614, 'years': 997, 'life': 484, 'vehicle': 943, 'expected': 305, 'legal': 479, 'miles': 547, 'actual': 8, 'looks': 503, 'fairly': 313, 'easy': 275, 'price': 675, 'tell': 886, 'thanks': 892, 'archive': 47, 'graphics': 371, 'resources': 741, 'list': 491, 'computer': 180, 'resource': 740, 'posting': 664, 'april': 45, 'including': 421, 'available': 70, 'site': 806, 'manager': 520, 'directory': 249, 'usenet': 934, 'news': 583, 'answers': 31, 'article': 58, 'server': 790, 'machine': 510, 'send': 784, 'message': 541, 'help': 400, 'body': 97, 'places': 643, 'information': 426, 'changed': 129, 'order': 610, 'plan': 644, 'soon': 820, 'keys': 454, 'subject': 860, 'public': 698, 'free': 344, 'systems': 874, 'stuff': 858, 'thinking': 897, 'making': 519, 'lines': 490, 'character': 132, 'added': 10, 'changes': 130, 'text': 890, 'copy': 197, 'provided': 696, 'contact': 188, 'risk': 750, 'software': 815, 'suggest': 861, 'reading': 710, 'comp': 174, 'image': 414, 'analysis': 27, 'date': 217, 'asked': 60, 'john': 450, 'nasa': 573, 'official': 601, 'included': 419, 'comments': 168, 'related': 725, 'mailing': 514, 'commercial': 169, 'description': 232, 'processing': 684, 'display': 254, 'data': 216, 'files': 327, 'background': 74, 'space': 829, 'shuttle': 800, 'scientific': 771, 'future': 351, 'info': 425, 'search': 774, 'groups': 377, 'usually': 938, 'articles': 59, 'posted': 663, 'times': 900, 'month': 561, 'kept': 452, 'field': 324, 'port': 658, 'type': 923, 'place': 642, 'robert': 752, 'general': 355, 'switch': 873, 'network': 582, 'service': 791, 'word': 979, 'following': 335, 'user': 935, 'anonymous': 29, 'internet': 439, 'address': 13, 'receive': 717, 'required': 737, 'appreciated': 42, 'contrib': 192, 'tape': 881, 'sources': 826, 'misc': 552, 'account': 5, 'sites': 807, 'note': 589, 'users': 936, 'united': 929, 'messages': 542, 'number': 592, 'things': 895, 'response': 743, 'email': 281, 'unix': 932, 'hours': 409, 'days': 220, 'later': 470, 'written': 991, 'dave': 218, 'david': 219, 'range': 706, 'surface': 871, 'types': 924, 'package': 615, 'version': 944, 'exists': 303, 'author': 68, 'source': 825, 'direct': 247, 'steve': 850, 'wire': 973, 'interesting': 435, 'features': 321, 'series': 788, 'needs': 581, 'volume': 949, 'excellent': 300, 'models': 556, 'based': 77, 'machines': 511, 'includes': 420, 'house': 410, 'solution': 818, 'stand': 836, 'requires': 738, 'uses': 937, 'algorithm': 19, 'command': 166, 'interface': 436, 'program': 688, 'write': 989, 'code': 159, 'format': 342, 'widget': 968, 'applications': 39, 'environment': 288, 'device': 239, 'library': 482, 'fast': 318, 'output': 613, 'support': 865, 'major': 516, 'save': 766, 'extra': 310, 'looking': 502, 'imagine': 416, 'nice': 585, 'postscript': 666, 'object': 594, 'font': 336, 'material': 527, 'references': 723, 'cross': 213, 'paper': 619, 'project': 691, 'technical': 884, 'form': 341, 'community': 173, 'access': 3, 'wish': 974, 'suggestions': 862, 'tools': 905, 'writing': 990, 'images': 415, 'screen': 772, 'programming': 689, 'windows': 972, 'color': 160, 'useful': 933, 'books': 99, 'means': 533, 'north': 588, 'america': 24, 'lots': 506, 'book': 98, 'trouble': 913, 'specific': 832, 'multiple': 570, 'created': 210, 'mark': 523, 'window': 971, 'fonts': 337, 'latest': 471, 'manual': 521, 'contains': 189, 'apparently': 34, 'longer': 499, 'language': 467, 'standard': 837, 'best': 86, 'issues': 444, 'jpeg': 451, 'export': 309, 'paul': 628, 'recently': 720, 'james': 445, 'apple': 37, 'conference': 183, 'video': 946, 'boston': 100, 'international': 438, 'near': 577, 'washington': 954, 'reality': 712, 'built': 107, 'science': 770, 'final': 328, 'exist': 301, 'state': 842, 'course': 206, 'considered': 186, 'signal': 801, 'short': 796, 'digital': 246, 'human': 411, 'head': 393, 'provides': 697, 'distribution': 255, 'different': 244, 'convert': 195, 'toronto': 906, 'peter': 636, 'modem': 557, 'bits': 91, 'main': 515, 'function': 349, 'land': 466, 'particular': 620, 'details': 235, 'entire': 286, 'carry': 119, 'americans': 26, 'come': 163, 'medical': 535, 'middle': 545, 'east': 274, 'plus': 650, 'room': 753, 'wrong': 992, 'return': 747, 'valid': 939, 'follow': 334, 'reply': 731, 'answer': 30, 'original': 612, 'sent': 786, 'request': 735, 'week': 961, 'example': 299, 'point': 651, 'base': 75, 'entry': 287, 'chicago': 135, 'canada': 115, 'supported': 866, 'currently': 215, 'long': 498, 'york': 998, 'running': 757, 'sound': 823, 'west': 964, 'special': 831, 'given': 361, 'supports': 867, 'design': 233, 'services': 792, 'offers': 599, 'rates': 708, 'interested': 434, 'addition': 11, 'basic': 78, 'rate': 707, 'directly': 248, 'license': 483, 'satellite': 765, 'office': 600, 'road': 751, 'create': 209, 'money': 559, 'release': 726, 'easily': 273, 'feel': 323, 'possible': 660, 'disk': 252, 'army': 57, 'draw': 262, 'block': 93, 'half': 381, 'print': 676, 'picture': 640, 'colors': 162, 'michael': 544, 'university': 931, 'president': 670, 'south': 827, 'city': 148, 'additional': 12, 'department': 230, 'handle': 383, 'fully': 348, 'worth': 987, 'personal': 635, 'station': 846, 'model': 555, 'devices': 240, 'party': 623, 'cover': 208, 'costs': 200, 'administration': 14, 'shipping': 795, 'vancouver': 942, 'basically': 79, 'build': 105, 'application': 38, 'theory': 893, 'agencies': 17, 'internal': 437, 'heard': 396, 'copies': 196, 'company': 176, 'person': 634, 'understanding': 926, 'today': 902, 'period': 633, 'building': 106, 'young': 999, 'higher': 402, 'fine': 330, 'null': 591, 'pittsburgh': 641, 'mouse': 568, 'motif': 567, 'open': 603, 'developed': 237, 'transfer': 911, 'define': 228, 'current': 214, 'standards': 838, 'step': 848, 'working': 983, 'mike': 546, 'baseball': 76, 'sale': 764, 'condition': 182, 'recent': 719, 'term': 887, 'according': 4, 'nature': 576, 'left': 478, 'control': 193, 'obviously': 597, 'choose': 141, 'live': 493, 'choice': 140, 'title': 901, 'versions': 945, 'political': 655, 'appropriate': 44, 'exactly': 298, 'chip': 138, 'secret': 777, 'child': 136, 'citizens': 147, 'arms': 56, 'purpose': 700, 'private': 679, 'quality': 701, 'playing': 649, 'season': 775, 'pick': 639, 'thought': 898, 'case': 121, 'generally': 356, 'belief': 83, 'important': 417, 'issue': 443, 'said': 763, 'organization': 611, 'bible': 88, 'anti': 32, 'believe': 85, 'fact': 312, 'christ': 142, 'children': 137, 'sense': 785, 'works': 984, 'agree': 18, 'simply': 804, 'needed': 580, 'trying': 917, 'words': 980, 'large': 468, 'common': 171, 'seen': 781, 'deal': 222, 'remote': 730, 'parts': 622, 'shot': 797, 'cheap': 133, 'player': 647, 'worked': 982, 'lower': 508, 'inside': 428, 'thing': 894, 'likely': 487, 'majority': 517, 'hand': 382, 'class': 152, 'trust': 915, 'modern': 558, 'idea': 412, 'rights': 749, 'lord': 504, 'freedom': 345, 'religion': 727, 'team': 882, 'early': 271, 'operation': 604, 'hands': 384, 'national': 574, 'play': 645, 'second': 776, 'guess': 378, 'country': 204, 'mention': 539, 'father': 320, 'love': 507, 'understand': 925, 'context': 190, 'specifically': 833, 'christians': 145, 'hell': 398, 'pass': 624, 'basis': 80, 'method': 543, 'secure': 779, 'care': 118, 'wants': 953, 'christianity': 144, 'home': 407, 'bring': 103, 'willing': 970, 'chips': 139, 'similar': 802, 'effect': 277, 'allows': 22, 'encryption': 282, 'door': 259, 'knows': 464, 'possibly': 661, 'earlier': 270, 'discussion': 250, 'knowledge': 462, 'game': 352, 'round': 754, 'ways': 958, 'watch': 956, 'comes': 164, 'crime': 211, 'criminals': 212, 'communications': 172, 'drug': 268, 'escrow': 292, 'kill': 455, 'hold': 405, 'assuming': 63, 'cars': 120, 'reasonable': 715, 'assume': 62, 'past': 626, 'blue': 95, 'high': 401, 'market': 524, 'clinton': 155, 'protect': 692, 'amendment': 23, 'able': 1, 'security': 780, 'court': 207, 'taking': 878, 'self': 782, 'defense': 227, 'turn': 921, 'enforcement': 284, 'safety': 762, 'deleted': 229, 'doubt': 261, 'problem': 681, 'guys': 380, 'drivers': 265, 'held': 397, 'happened': 386, 'tried': 912, 'keyboard': 453, 'cable': 109, 'meaning': 532, 'weeks': 962, 'calls': 113, 'experience': 307, 'church': 146, 'particularly': 621, 'didn': 241, 'true': 914, 'holy': 406, 'death': 223, 'truth': 916, 'ground': 375, 'situation': 808, 'summer': 863, 'regular': 724, 'business': 108, 'view': 947, 'women': 976, 'members': 537, 'killed': 456, 'killing': 457, 'figure': 325, 'lives': 494, 'necessary': 578, 'protection': 693, 'blood': 94, 'result': 745, 'conclusion': 181, 'advance': 15, 'moral': 564, 'claim': 150, 'consider': 185, 'allow': 20, 'pretty': 672, 'sold': 816, 'black': 92, 'goes': 366, 'hope': 408, 'correct': 198, 'strong': 855, 'sell': 783, 'serial': 787, 'turned': 922, 'printer': 677, 'couldn': 201, 'drives': 266, 'finally': 329, 'decided': 224, 'wanted': 952, 'gave': 354, 'scsi': 773, 'areas': 49, 'effective': 278, 'school': 769, 'press': 671, 'instead': 430, 'quote': 704, 'limited': 488, 'stated': 843, 'previous': 674, 'certain': 125, 'couple': 205, 'effort': 279, 'avoid': 72, 'anybody': 33, 'monitor': 560, 'size': 809, 'appear': 35, 'clock': 157, 'default': 226, 'slow': 810, 'speed': 834, 'passed': 625, 'faster': 319, 'double': 260, 'designed': 234, 'companies': 175, 'products': 687, 'development': 238, 'goals': 365, 'moon': 563, 'mission': 553, 'lunar': 509, 'obvious': 596, 'single': 805, 'supply': 864, 'equipment': 289, 'aren': 50, 'knew': 460, 'goal': 364, 'earth': 272, 'giving': 363, 'magazine': 512, 'comment': 167, 'took': 904, 'level': 481, 'perfect': 631, 'produce': 685, 'happen': 385, 'lack': 465, 'expensive': 306, 'played': 646, 'night': 586, 'hardware': 390, 'games': 353, 'mass': 525, 'hockey': 404, 'radio': 705, 'greek': 374, 'getting': 360, 'happy': 388, 'happens': 387, 'actions': 7, 'ability': 0, 'religious': 728, 'mind': 550, 'completely': 179, 'argument': 51, 'supposed': 869, 'folks': 333, 'bike': 89, 'insurance': 432, 'advice': 16, 'states': 845, 'break': 102, 'beginning': 82, 'learn': 476, 'friend': 346, 'family': 317, 'told': 903, 'mentioned': 540, 'attempt': 67, 'fall': 315, 'gets': 359, 'water': 957, 'local': 496, 'wife': 969, 'looked': 501, 'reported': 733, 'went': 963, 'coming': 165, 'weapons': 960, 'weapon': 959, 'event': 295, 'master': 526, 'hear': 395, 'christian': 143, 'lead': 474, 'existence': 302, 'police': 653, 'char': 131, 'value': 940, 'board': 96, 'cause': 123, 'unit': 928, 'input': 427, 'rule': 755, 'apply': 40, 'late': 469, 'driving': 267, 'universe': 930, 'claims': 151, 'difficult': 245, 'increase': 422, 'seriously': 789, 'worse': 986, 'mode': 554, 'driver': 264, 'taken': 876, 'american': 25, 'talk': 879, 'intended': 433, 'woman': 975, 'started': 840, 'white': 966, 'multi': 569, 'engine': 285, 'trade': 909, 'opinion': 605, 'federal': 322, 'events': 296, 'values': 941, 'controller': 194, 'orbit': 609, 'opinions': 606, 'wait': 950, 'social': 813, 'poor': 656, 'education': 276, 'appreciate': 41, 'gone': 368, 'involved': 440, 'face': 311, 'gives': 362, 'action': 6, 'arguments': 52, 'bios': 90, 'error': 290, 'hello': 399, 'calling': 112, 'minutes': 551, 'evidence': 297, 'clear': 153, 'errors': 291, 'greatly': 373, 'position': 659, 'chance': 127, 'cases': 122, 'jobs': 449, 'town': 908, 'institute': 431, 'floppy': 332, 'disks': 253, 'morning': 565, 'talking': 880, 'provide': 695, 'military': 548, 'ones': 602, 'results': 746, 'explain': 308, 'angeles': 28, 'million': 549, 'shall': 794, 'takes': 877, 'functions': 350, 'require': 736, 'wrote': 993, 'xterm': 994, 'armenians': 55, 'armenia': 53, 'turkish': 919, 'turkey': 918, 'speak': 830, 'germany': 358, 'armenian': 54, 'natural': 575, 'ideas': 413, 'installed': 429, 'paid': 617, 'friends': 347, 'health': 394, 'physical': 638, 'teams': 883, 'players': 648, 'pain': 618, 'decision': 225, 'haven': 391, 'individual': 424, 'society': 814, 'count': 202, 'civil': 149, 'guns': 379, 'colorado': 161, 'mother': 566, 'died': 242, 'considering': 187, 'thank': 891, 'suppose': 868, 'somebody': 819, 'brought': 104, 'jewish': 447, 'published': 699, 'drugs': 269, 'patients': 627, 'disease': 251, 'launch': 472, 'prevent': 673, 'page': 616, 'safe': 761, 'studies': 856, 'study': 857, 'doctor': 257, 'setting': 793, 'division': 256, 'committee': 170, 'approach': 43, 'march': 522, 'history': 403, 'congress': 184, 'rest': 744, 'starting': 841, 'atheists': 65, 'authority': 69, 'stream': 853, 'soviet': 828, 'genocide': 357, 'section': 778, 'russian': 760, 'population': 657, 'forward': 343, 'names': 572, 'laws': 473, 'false': 316, 'reference': 722, 'western': 965, 'practice': 668, 'lost': 505, 'living': 495, 'spirit': 835, 'traffic': 910, 'wide': 967, 'member': 536, 'energy': 283, 'objective': 595, 'compatible': 177, 'respect': 742, 'nuclear': 590, 'beliefs': 84, 'posts': 665, 'matthew': 529, 'russia': 759, 'firearms': 331, 'turks': 920, 'muslim': 571, 'king': 459, 'detroit': 236, 'stephanopoulos': 849}\n"
          ]
        }
      ]
    },
    {
      "cell_type": "code",
      "source": [
        "A.shape[0]"
      ],
      "metadata": {
        "colab": {
          "base_uri": "https://localhost:8080/"
        },
        "id": "jrIt3bPgdcuE",
        "outputId": "e63f15e6-2f05-458b-bebb-49381d59d3eb"
      },
      "execution_count": null,
      "outputs": [
        {
          "output_type": "execute_result",
          "data": {
            "text/plain": [
              "11314"
            ]
          },
          "metadata": {},
          "execution_count": 14
        }
      ]
    },
    {
      "cell_type": "code",
      "source": [
        "idx_kata = dict(map(reversed, vsm.vocabulary_.items()))\n",
        "Label = [idx_kata[j] for j in range(len(vsm.vocabulary_))]\n",
        "print(Label)"
      ],
      "metadata": {
        "colab": {
          "base_uri": "https://localhost:8080/"
        },
        "outputId": "32e3d3cc-512b-4df8-88d3-f3ec77edf375",
        "id": "l3QXAsSlfJuo"
      },
      "execution_count": null,
      "outputs": [
        {
          "output_type": "stream",
          "name": "stdout",
          "text": [
            "['ability', 'able', 'accept', 'access', 'according', 'account', 'action', 'actions', 'actual', 'actually', 'added', 'addition', 'additional', 'address', 'administration', 'advance', 'advice', 'agencies', 'agree', 'algorithm', 'allow', 'allowed', 'allows', 'amendment', 'america', 'american', 'americans', 'analysis', 'angeles', 'anonymous', 'answer', 'answers', 'anti', 'anybody', 'apparently', 'appear', 'appears', 'apple', 'application', 'applications', 'apply', 'appreciate', 'appreciated', 'approach', 'appropriate', 'april', 'arab', 'archive', 'area', 'areas', 'aren', 'argument', 'arguments', 'armenia', 'armenian', 'armenians', 'arms', 'army', 'article', 'articles', 'asked', 'asking', 'assume', 'assuming', 'atheism', 'atheists', 'attack', 'attempt', 'author', 'authority', 'available', 'average', 'avoid', 'away', 'background', 'base', 'baseball', 'based', 'basic', 'basically', 'basis', 'begin', 'beginning', 'belief', 'beliefs', 'believe', 'best', 'better', 'bible', 'bike', 'bios', 'bits', 'black', 'block', 'blood', 'blue', 'board', 'body', 'book', 'books', 'boston', 'bought', 'break', 'bring', 'brought', 'build', 'building', 'built', 'business', 'cable', 'california', 'called', 'calling', 'calls', 'came', 'canada', 'card', 'cards', 'care', 'carry', 'cars', 'case', 'cases', 'cause', 'center', 'certain', 'certainly', 'chance', 'change', 'changed', 'changes', 'char', 'character', 'cheap', 'check', 'chicago', 'child', 'children', 'chip', 'chips', 'choice', 'choose', 'christ', 'christian', 'christianity', 'christians', 'church', 'citizens', 'city', 'civil', 'claim', 'claims', 'class', 'clear', 'clearly', 'clinton', 'clipper', 'clock', 'close', 'code', 'color', 'colorado', 'colors', 'come', 'comes', 'coming', 'command', 'comment', 'comments', 'commercial', 'committee', 'common', 'communications', 'community', 'comp', 'companies', 'company', 'compatible', 'complete', 'completely', 'computer', 'conclusion', 'condition', 'conference', 'congress', 'consider', 'considered', 'considering', 'contact', 'contains', 'context', 'continue', 'contrib', 'control', 'controller', 'convert', 'copies', 'copy', 'correct', 'cost', 'costs', 'couldn', 'count', 'countries', 'country', 'couple', 'course', 'court', 'cover', 'create', 'created', 'crime', 'criminals', 'cross', 'current', 'currently', 'data', 'date', 'dave', 'david', 'days', 'dead', 'deal', 'death', 'decided', 'decision', 'default', 'defense', 'define', 'deleted', 'department', 'described', 'description', 'design', 'designed', 'details', 'detroit', 'developed', 'development', 'device', 'devices', 'didn', 'died', 'difference', 'different', 'difficult', 'digital', 'direct', 'directly', 'directory', 'discussion', 'disease', 'disk', 'disks', 'display', 'distribution', 'division', 'doctor', 'doesn', 'door', 'double', 'doubt', 'draw', 'drive', 'driver', 'drivers', 'drives', 'driving', 'drug', 'drugs', 'earlier', 'early', 'earth', 'easily', 'east', 'easy', 'education', 'effect', 'effective', 'effort', 'electronic', 'email', 'encryption', 'energy', 'enforcement', 'engine', 'entire', 'entry', 'environment', 'equipment', 'error', 'errors', 'escrow', 'especially', 'europe', 'event', 'events', 'evidence', 'exactly', 'example', 'excellent', 'exist', 'existence', 'exists', 'expect', 'expected', 'expensive', 'experience', 'explain', 'export', 'extra', 'face', 'fact', 'fairly', 'faith', 'fall', 'false', 'family', 'fast', 'faster', 'father', 'features', 'federal', 'feel', 'field', 'figure', 'file', 'files', 'final', 'finally', 'fine', 'firearms', 'floppy', 'folks', 'follow', 'following', 'font', 'fonts', 'food', 'force', 'forget', 'form', 'format', 'forward', 'free', 'freedom', 'friend', 'friends', 'fully', 'function', 'functions', 'future', 'game', 'games', 'gave', 'general', 'generally', 'genocide', 'germany', 'gets', 'getting', 'given', 'gives', 'giving', 'goal', 'goals', 'goes', 'going', 'gone', 'good', 'government', 'graphics', 'great', 'greatly', 'greek', 'ground', 'group', 'groups', 'guess', 'guns', 'guys', 'half', 'hand', 'handle', 'hands', 'happen', 'happened', 'happens', 'happy', 'hard', 'hardware', 'haven', 'having', 'head', 'health', 'hear', 'heard', 'held', 'hell', 'hello', 'help', 'high', 'higher', 'history', 'hockey', 'hold', 'holy', 'home', 'hope', 'hours', 'house', 'human', 'idea', 'ideas', 'image', 'images', 'imagine', 'important', 'include', 'included', 'includes', 'including', 'increase', 'independent', 'individual', 'info', 'information', 'input', 'inside', 'installed', 'instead', 'institute', 'insurance', 'intended', 'interested', 'interesting', 'interface', 'internal', 'international', 'internet', 'involved', 'israel', 'israeli', 'issue', 'issues', 'james', 'jesus', 'jewish', 'jews', 'jobs', 'john', 'jpeg', 'kept', 'keyboard', 'keys', 'kill', 'killed', 'killing', 'kind', 'king', 'knew', 'know', 'knowledge', 'known', 'knows', 'lack', 'land', 'language', 'large', 'late', 'later', 'latest', 'launch', 'laws', 'lead', 'league', 'learn', 'leave', 'left', 'legal', 'letter', 'level', 'library', 'license', 'life', 'light', 'like', 'likely', 'limited', 'line', 'lines', 'list', 'little', 'live', 'lives', 'living', 'local', 'logic', 'long', 'longer', 'look', 'looked', 'looking', 'looks', 'lord', 'lost', 'lots', 'love', 'lower', 'lunar', 'machine', 'machines', 'magazine', 'mail', 'mailing', 'main', 'major', 'majority', 'makes', 'making', 'manager', 'manual', 'march', 'mark', 'market', 'mass', 'master', 'material', 'matter', 'matthew', 'maybe', 'mean', 'meaning', 'means', 'media', 'medical', 'member', 'members', 'memory', 'mention', 'mentioned', 'message', 'messages', 'method', 'michael', 'middle', 'mike', 'miles', 'military', 'million', 'mind', 'minutes', 'misc', 'mission', 'mode', 'model', 'models', 'modem', 'modern', 'money', 'monitor', 'month', 'months', 'moon', 'moral', 'morning', 'mother', 'motif', 'mouse', 'multi', 'multiple', 'muslim', 'names', 'nasa', 'national', 'natural', 'nature', 'near', 'necessary', 'need', 'needed', 'needs', 'network', 'news', 'newsgroup', 'nice', 'night', 'normal', 'north', 'note', 'nuclear', 'null', 'number', 'numbers', 'object', 'objective', 'obvious', 'obviously', 'offer', 'offers', 'office', 'official', 'ones', 'open', 'operation', 'opinion', 'opinions', 'option', 'options', 'orbit', 'order', 'organization', 'original', 'output', 'outside', 'package', 'page', 'paid', 'pain', 'paper', 'particular', 'particularly', 'parts', 'party', 'pass', 'passed', 'past', 'patients', 'paul', 'peace', 'people', 'perfect', 'performance', 'period', 'person', 'personal', 'peter', 'phone', 'physical', 'pick', 'picture', 'pittsburgh', 'place', 'places', 'plan', 'play', 'played', 'player', 'players', 'playing', 'plus', 'point', 'points', 'police', 'policy', 'political', 'poor', 'population', 'port', 'position', 'possible', 'possibly', 'post', 'posted', 'posting', 'posts', 'postscript', 'power', 'practice', 'present', 'president', 'press', 'pretty', 'prevent', 'previous', 'price', 'print', 'printer', 'privacy', 'private', 'probably', 'problem', 'problems', 'process', 'processing', 'produce', 'product', 'products', 'program', 'programming', 'programs', 'project', 'protect', 'protection', 'prove', 'provide', 'provided', 'provides', 'public', 'published', 'purpose', 'quality', 'question', 'questions', 'quote', 'radio', 'range', 'rate', 'rates', 'read', 'reading', 'real', 'reality', 'realize', 'reason', 'reasonable', 'reasons', 'receive', 'received', 'recent', 'recently', 'record', 'reference', 'references', 'regular', 'related', 'release', 'religion', 'religious', 'remember', 'remote', 'reply', 'report', 'reported', 'reports', 'request', 'require', 'required', 'requires', 'research', 'resource', 'resources', 'respect', 'response', 'rest', 'result', 'results', 'return', 'right', 'rights', 'risk', 'road', 'robert', 'room', 'round', 'rule', 'rules', 'running', 'runs', 'russia', 'russian', 'safe', 'safety', 'said', 'sale', 'satellite', 'save', 'saying', 'says', 'school', 'science', 'scientific', 'screen', 'scsi', 'search', 'season', 'second', 'secret', 'section', 'secure', 'security', 'seen', 'self', 'sell', 'send', 'sense', 'sent', 'serial', 'series', 'seriously', 'server', 'service', 'services', 'setting', 'shall', 'shipping', 'short', 'shot', 'shouldn', 'shows', 'shuttle', 'signal', 'similar', 'simple', 'simply', 'single', 'site', 'sites', 'situation', 'size', 'slow', 'small', 'smith', 'social', 'society', 'software', 'sold', 'soldiers', 'solution', 'somebody', 'soon', 'sorry', 'sort', 'sound', 'sounds', 'source', 'sources', 'south', 'soviet', 'space', 'speak', 'special', 'specific', 'specifically', 'speed', 'spirit', 'stand', 'standard', 'standards', 'start', 'started', 'starting', 'state', 'stated', 'statement', 'states', 'station', 'stay', 'step', 'stephanopoulos', 'steve', 'stop', 'story', 'stream', 'street', 'strong', 'studies', 'study', 'stuff', 'stupid', 'subject', 'suggest', 'suggestions', 'summer', 'supply', 'support', 'supported', 'supports', 'suppose', 'supposed', 'sure', 'surface', 'suspect', 'switch', 'systems', 'table', 'taken', 'takes', 'taking', 'talk', 'talking', 'tape', 'team', 'teams', 'technical', 'technology', 'tell', 'term', 'terms', 'test', 'text', 'thank', 'thanks', 'theory', 'thing', 'things', 'think', 'thinking', 'thought', 'time', 'times', 'title', 'today', 'told', 'took', 'tools', 'toronto', 'total', 'town', 'trade', 'traffic', 'transfer', 'tried', 'trouble', 'true', 'trust', 'truth', 'trying', 'turkey', 'turkish', 'turks', 'turn', 'turned', 'type', 'types', 'understand', 'understanding', 'unfortunately', 'unit', 'united', 'universe', 'university', 'unix', 'useful', 'usenet', 'user', 'users', 'uses', 'usually', 'valid', 'value', 'values', 'vancouver', 'vehicle', 'version', 'versions', 'video', 'view', 'voice', 'volume', 'wait', 'want', 'wanted', 'wants', 'washington', 'wasn', 'watch', 'water', 'ways', 'weapon', 'weapons', 'week', 'weeks', 'went', 'west', 'western', 'white', 'wide', 'widget', 'wife', 'willing', 'window', 'windows', 'wire', 'wish', 'woman', 'women', 'wonder', 'wondering', 'word', 'words', 'work', 'worked', 'working', 'works', 'world', 'worse', 'worth', 'wouldn', 'write', 'writing', 'written', 'wrong', 'wrote', 'xterm', 'yeah', 'year', 'years', 'york', 'young']\n"
          ]
        }
      ]
    },
    {
      "cell_type": "code",
      "source": [
        "import matplotlib.pyplot as plt\n",
        "fig, ax = plt.subplots()\n",
        "ax.scatter(x_kata, y_kata, c = ['b']*len(x_kata))\n",
        "for i, L in enumerate(Label):\n",
        "    ax.annotate(L, (x_kata[i], y_kata[i]))"
      ],
      "metadata": {
        "colab": {
          "base_uri": "https://localhost:8080/",
          "height": 265
        },
        "id": "DJDiSc6eYtnB",
        "outputId": "f6f0392d-da2d-4bb8-f7e7-17caa4f26b4e"
      },
      "execution_count": null,
      "outputs": [
        {
          "output_type": "display_data",
          "data": {
            "text/plain": [
              "<Figure size 432x288 with 1 Axes>"
            ],
            "image/png": "[encoded data removed]"
          },
          "metadata": {
            "needs_background": "light"
          }
        }
      ]
    },
    {
      "cell_type": "markdown",
      "source": [
        "### Kesimpulan\n",
        "Dapat dilihat dari hasil visualisasi di atas bahwa mayoritas kata-kata menumpuk di grafik, yaitu pada sumbu $x$ bernilai 0 hingga 0.2 dan sumbu $y$ bernilai -0.2 hingga 0.2 dengan hanya sedikit kata-kata yang berada di luar interval tersebut seperti file, output, entry, dan program."
      ],
      "metadata": {
        "id": "oKe9UdSbJJP1"
      }
    },
    {
      "cell_type": "code",
      "source": [],
      "metadata": {
        "id": "TaZCxmZYk5M_"
      },
      "execution_count": null,
      "outputs": []
    }
  ]
}